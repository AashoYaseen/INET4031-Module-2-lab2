{
 "cells": [
  {
   "cell_type": "code",
   "execution_count": 1,
   "id": "ee3841d3-e228-435e-9b98-1545f715291d",
   "metadata": {},
   "outputs": [
    {
     "name": "stdout",
     "output_type": "stream",
     "text": [
      "\n",
      "list-of-users was read.\n"
     ]
    },
    {
     "name": "stdin",
     "output_type": "stream",
     "text": [
      "\n",
      "Do you want to print out the list of users? (Y or N) Y\n"
     ]
    },
    {
     "name": "stdout",
     "output_type": "stream",
     "text": [
      "\n",
      " dwash1:abc123:Washington:Denzel:administrators\n",
      "\n",
      "\n",
      " brpit2:abc123:Pitt:Brad:users\n",
      "\n",
      "\n",
      " tcook1:abc123:Tim:Cook:managers\n",
      "\n",
      "\n",
      " byonce:abc123:Knowles-Carter:Beyonce:administrators,queens\n",
      "\n",
      "End of User Processing\n",
      "\n"
     ]
    },
    {
     "ename": "NameError",
     "evalue": "name 'main' is not defined",
     "output_type": "error",
     "traceback": [
      "\u001b[0;31m---------------------------------------------------------------------------\u001b[0m",
      "\u001b[0;31mNameError\u001b[0m                                 Traceback (most recent call last)",
      "Cell \u001b[0;32mIn[1], line 23\u001b[0m\n\u001b[1;32m     19\u001b[0m     \u001b[38;5;28mprint\u001b[39m(\u001b[38;5;124m\"\u001b[39m\u001b[38;5;130;01m\\n\u001b[39;00m\u001b[38;5;124mOk not printing, ending program.\u001b[39m\u001b[38;5;124m\"\u001b[39m)\n\u001b[1;32m     21\u001b[0m \u001b[38;5;28mprint\u001b[39m(\u001b[38;5;124m\"\u001b[39m\u001b[38;5;130;01m\\n\u001b[39;00m\u001b[38;5;124mEnd of User Processing\u001b[39m\u001b[38;5;130;01m\\n\u001b[39;00m\u001b[38;5;124m\"\u001b[39m)\n\u001b[0;32m---> 23\u001b[0m \u001b[43mmain\u001b[49m()\n",
      "\u001b[0;31mNameError\u001b[0m: name 'main' is not defined"
     ]
    }
   ],
   "source": [
    "#open the user list file\n",
    "\n",
    "userFile = open(\"list-of-users.txt\", \"r\")\n",
    "\n",
    "#load the lines of the file into a list\n",
    "listOfUsers = userFile.readlines()\n",
    "print(\"\\nlist-of-users was read.\")\n",
    "\n",
    "#ask the user to proceed\n",
    "answer = input(\"\\nDo you want to print out the list of users? (Y or N)\")\n",
    "\n",
    "if answer == \"Y\" or answer == \"y\":\n",
    "\n",
    "    for userline in listOfUsers:\n",
    "        print(\"\\n\", userline)\n",
    "\n",
    "else:\n",
    "\n",
    "    print(\"\\nOk not printing, ending program.\")\n",
    "\n",
    "print(\"\\nEnd of User Processing\\n\")\n",
    "\n",
    "main()"
   ]
  },
  {
   "cell_type": "code",
   "execution_count": null,
   "id": "d23d69ab-bb73-48d3-9572-0f47ed6cb1d9",
   "metadata": {},
   "outputs": [],
   "source": []
  }
 ],
 "metadata": {
  "kernelspec": {
   "display_name": "Python 3 (ipykernel)",
   "language": "python",
   "name": "python3"
  },
  "language_info": {
   "codemirror_mode": {
    "name": "ipython",
    "version": 3
   },
   "file_extension": ".py",
   "mimetype": "text/x-python",
   "name": "python",
   "nbconvert_exporter": "python",
   "pygments_lexer": "ipython3",
   "version": "3.9.6"
  }
 },
 "nbformat": 4,
 "nbformat_minor": 5
}
